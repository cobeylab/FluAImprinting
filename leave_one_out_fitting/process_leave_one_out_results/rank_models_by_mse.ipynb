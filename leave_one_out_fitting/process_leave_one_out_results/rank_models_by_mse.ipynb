{
 "cells": [
  {
   "cell_type": "code",
   "execution_count": 1,
   "metadata": {},
   "outputs": [],
   "source": [
    "import pandas as pd\n",
    "\n",
    "df = pd.read_csv('squared_error_loo.csv')\n",
    "df = df[df.season_excluded != 2009.5]\n",
    "rows = []\n",
    "for model, mdf in df.groupby('model'):\n",
    "    if 'season' not in model:\n",
    "        rows.append([model, mdf.mean().squared_error])\n",
    "        \n",
    "outdf = pd.DataFrame(rows, columns=['model', 'mse'])\n",
    "outdf = outdf.sort_values('mse')\n",
    "outdf.to_csv('loo_mse.csv', index=False)"
   ]
  },
  {
   "cell_type": "code",
   "execution_count": null,
   "metadata": {},
   "outputs": [],
   "source": []
  }
 ],
 "metadata": {
  "kernelspec": {
   "display_name": "Python 3",
   "language": "python",
   "name": "python3"
  },
  "language_info": {
   "codemirror_mode": {
    "name": "ipython",
    "version": 3
   },
   "file_extension": ".py",
   "mimetype": "text/x-python",
   "name": "python",
   "nbconvert_exporter": "python",
   "pygments_lexer": "ipython3",
   "version": "3.7.0"
  }
 },
 "nbformat": 4,
 "nbformat_minor": 2
}
