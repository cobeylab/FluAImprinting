{
 "cells": [
  {
   "cell_type": "code",
   "execution_count": 1,
   "metadata": {},
   "outputs": [],
   "source": [
    "import pandas as pd\n",
    "import numpy as np\n",
    "\n",
    "\n",
    "def get_flu_season(year, week,\n",
    "                   season_start_week=40,\n",
    "                   pan_start=15,\n",
    "                   pan_end=47):\n",
    "    '''\n",
    "    Adds flu season to the final dataframe.\n",
    "    '''\n",
    "    if year != 2009 and week < season_start_week:\n",
    "        season = year\n",
    "        \n",
    "    elif year == 2009 and week >= pan_start and week <= pan_end:\n",
    "        season = 2009.5\n",
    "        \n",
    "    elif year == 2009 and week < pan_start: \n",
    "        season = 2009\n",
    "        \n",
    "    elif year == 2009 and week > pan_end:\n",
    "        season = 2010\n",
    "        \n",
    "    elif week >= season_start_week:\n",
    "        season = year + 1\n",
    "        \n",
    "    else:\n",
    "        season = -1\n",
    "    return season\n",
    "\n",
    "ilifile = '../raw_data/ILINet.csv'\n",
    "prior_to_15_16 = '../raw_data/WHO_NREVSS_Combined_prior_to_2015_16.csv'\n",
    "public_health_subtype = '../raw_data/WHO_NREVSS_Public_Health_Labs.csv'\n",
    "clinical_lab_type = '../raw_data/WHO_NREVSS_Clinical_Labs.csv'\n",
    "\n",
    "prior_1516_columns = ['TOTAL SPECIMENS',\n",
    "                     'A (2009 H1N1)', \n",
    "                     'A (H1)', \n",
    "                     'A (H3)', \n",
    "                     'A (Subtyping not Performed)', \n",
    "                     'A (Unable to Subtype)',\n",
    "                     'H3N2v',\n",
    "                     'B']\n",
    "A_subtype_cols = ['A (2009 H1N1)', \n",
    "                  'A (H1)', \n",
    "                  'A (H3)', \n",
    "                  'A (Unable to Subtype)',\n",
    "                  'H3N2v']\n",
    "\n",
    "H1_cols = ['A (2009 H1N1)',\n",
    "           'A (H1)']\n",
    "H3_cols = ['A (H3)',\n",
    "           'H3N2v']\n",
    "public_health_cols = ['TOTAL SPECIMENS',\n",
    "                      'A (2009 H1N1)',\n",
    "                      'A (H3)',\n",
    "                      'A (Subtyping not Performed)',\n",
    "                      'H3N2v',\n",
    "                      'B',\n",
    "                      'BVic',\n",
    "                      'BYam']"
   ]
  },
  {
   "cell_type": "code",
   "execution_count": 2,
   "metadata": {},
   "outputs": [],
   "source": [
    "typedf = pd.read_csv(clinical_lab_type,\n",
    "                     skiprows=1, \n",
    "                     index_col=['YEAR', 'WEEK'])[['TOTAL A', 'TOTAL B', 'TOTAL SPECIMENS']]\n",
    "\n",
    "subtypedf = pd.read_csv(public_health_subtype,\n",
    "                        skiprows=1,\n",
    "                        index_col=['YEAR', 'WEEK'])[public_health_cols]\n"
   ]
  },
  {
   "cell_type": "code",
   "execution_count": 3,
   "metadata": {},
   "outputs": [],
   "source": [
    "combineddf = pd.read_csv(prior_to_15_16,\n",
    "                         skiprows=1,\n",
    "                         na_values=['X'],\n",
    "                         index_col=['YEAR', 'WEEK'])[prior_1516_columns]\n",
    "\n",
    "combineddf['TOTAL A'] = combineddf[['A (2009 H1N1)', \n",
    "                                     'A (H1)', \n",
    "                                     'A (H3)', \n",
    "                                     'A (Subtyping not Performed)', \n",
    "                                     'A (Unable to Subtype)',\n",
    "                                     'H3N2v']].sum(skipna=True, axis=1)\n",
    "combineddf['TOTAL B'] = combineddf.B\n",
    "\n",
    "combineddf_type = combineddf[['TOTAL A', 'TOTAL B', 'TOTAL SPECIMENS']]\n",
    "combineddf_subtype = combineddf[prior_1516_columns[0:-1]]\n",
    "\n"
   ]
  },
  {
   "cell_type": "code",
   "execution_count": 4,
   "metadata": {},
   "outputs": [],
   "source": [
    "subtype_final = pd.concat([combineddf_subtype, subtypedf], axis=0, sort=False)\n",
    "\n",
    "subtype_final['TOTAL A'] = subtype_final[A_subtype_cols].sum(axis=1, skipna=True)\n",
    "subtype_final['FRACTION H1'] = subtype_final[H1_cols].sum(axis=1, skipna=True).divide(subtype_final['TOTAL A']).fillna(0)\n",
    "subtype_final['FRACTION H3'] = subtype_final[H3_cols].sum(axis=1, skipna=True).divide(subtype_final['TOTAL A']).fillna(0)\n",
    "subtype_final['H1 TOTAL'] = subtype_final[H1_cols].sum(axis=1, skipna=True)\n",
    "subtype_final['H3 TOTAL'] = subtype_final[H3_cols].sum(axis=1, skipna=True)\n",
    "subtype_final = subtype_final[['FRACTION H1', 'FRACTION H3', 'H1 TOTAL', 'H3 TOTAL']]"
   ]
  },
  {
   "cell_type": "code",
   "execution_count": 5,
   "metadata": {},
   "outputs": [],
   "source": [
    "type_final = pd.concat([combineddf_type, typedf], axis=0, sort=False)\n",
    "type_final['FRACTION A'] = type_final['TOTAL A'].divide(type_final['TOTAL SPECIMENS']).fillna(0)\n",
    "type_final['FRACTION B'] = type_final['TOTAL B'].divide(type_final['TOTAL SPECIMENS']).fillna(0)\n",
    "type_final['FRACTION POSITIVE'] = type_final['FRACTION A'] + type_final['FRACTION B']\n",
    "type_final = type_final[['TOTAL A', 'TOTAL SPECIMENS', 'FRACTION A', 'FRACTION B', 'FRACTION POSITIVE']]"
   ]
  },
  {
   "cell_type": "code",
   "execution_count": 6,
   "metadata": {},
   "outputs": [],
   "source": [
    "ilidf = pd.read_csv(ilifile,\n",
    "                    skiprows=1,\n",
    "                    index_col=['YEAR', 'WEEK'])\n",
    "\n",
    "df = type_final.merge(ilidf, left_index=True, right_index=True).merge(subtype_final, left_index=True, right_index=True)\n",
    "df = df[['% WEIGHTED ILI',\n",
    "        'TOTAL A',\n",
    "        'TOTAL SPECIMENS',\n",
    "        'FRACTION A',\n",
    "        'FRACTION B',\n",
    "        'FRACTION H1',\n",
    "        'FRACTION H3',\n",
    "        'H1 TOTAL',\n",
    "        'H3 TOTAL']]\n",
    "df['% WEIGHTED ILI'] = df['% WEIGHTED ILI'] / 100\n",
    "\n",
    "for index, row in df.iterrows():\n",
    "    year, week = index\n",
    "    df.loc[index, 'SEASON'] = get_flu_season(year, week)"
   ]
  },
  {
   "cell_type": "code",
   "execution_count": 7,
   "metadata": {},
   "outputs": [],
   "source": [
    "# Get A intensity\n",
    "df['INTENSITY_A'] = df[['% WEIGHTED ILI', 'FRACTION A']].product(axis=1)\n",
    "df['INTENSITY_H1'] = df[['% WEIGHTED ILI', 'FRACTION A', 'FRACTION H1']].product(axis=1)\n",
    "df['INTENSITY_H3'] = df[['% WEIGHTED ILI', 'FRACTION A', 'FRACTION H3']].product(axis=1)\n",
    "# Getting PMF\n",
    "for season, seasondf in df.groupby('SEASON'):\n",
    "    total = np.sum(seasondf['INTENSITY_A'])\n",
    "    df.loc[seasondf.index,'PMF_A'] = np.round(seasondf['INTENSITY_A'] / total, 6)\n",
    "        \n",
    "# Getting SF\n",
    "for season, seasondf in df.groupby('SEASON'):\n",
    "    cumsum = np.round(np.cumsum(seasondf['PMF_A']), 5)\n",
    "    sd = 1 - np.array([0] + list(cumsum))\n",
    "    df.loc[seasondf.index,'SF_A'] = sd[0:-1]\n",
    "        "
   ]
  },
  {
   "cell_type": "code",
   "execution_count": 8,
   "metadata": {},
   "outputs": [],
   "source": [
    "df.to_csv('../data/weekly_incidence_simplified.csv')"
   ]
  },
  {
   "cell_type": "code",
   "execution_count": null,
   "metadata": {},
   "outputs": [],
   "source": []
  }
 ],
 "metadata": {
  "kernelspec": {
   "display_name": "Python 3",
   "language": "python",
   "name": "python3"
  },
  "language_info": {
   "codemirror_mode": {
    "name": "ipython",
    "version": 3
   },
   "file_extension": ".py",
   "mimetype": "text/x-python",
   "name": "python",
   "nbconvert_exporter": "python",
   "pygments_lexer": "ipython3",
   "version": "3.7.0"
  }
 },
 "nbformat": 4,
 "nbformat_minor": 2
}
