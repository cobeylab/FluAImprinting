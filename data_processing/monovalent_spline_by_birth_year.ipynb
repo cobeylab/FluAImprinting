{
 "cells": [
  {
   "cell_type": "code",
   "execution_count": 2,
   "metadata": {},
   "outputs": [],
   "source": [
    "import pandas as pd\n",
    "from dateutil.relativedelta import relativedelta\n",
    "from datetime import datetime\n",
    "from matplotlib import pyplot as plt\n",
    "import numpy as np\n",
    "import seaborn as sns\n",
    "from collections import defaultdict\n",
    "%matplotlib inline\n",
    "from matplotlib import rcParams, colors\n",
    "from scipy.interpolate import splev, splrep\n",
    "\n",
    "vac_counts = pd.read_csv('../raw_data/monovalent_vaccination_counts_by_birth_year.csv')\n",
    "spl = splrep(vac_counts.Birth_year, vac_counts.Coverage, s=5)\n",
    "interp = splev(range(1918, 2010), spl)\n",
    "\n",
    "mono_spline_by_birth_year = pd.DataFrame(columns=['Birth_year', 'Coverage', 'Season' ,'season_float'])\n",
    "mono_spline_by_birth_year['Birth_year'] = range(1918, 2010)\n",
    "mono_spline_by_birth_year['Coverage'] = interp\n",
    "mono_spline_by_birth_year['Season'] = '2009Pan'\n",
    "mono_spline_by_birth_year['season_float'] = 2009.5\n",
    "mono_spline_by_birth_year.to_csv('../data/monovalent_spline_coverage_by_birth_year.csv', index=False)"
   ]
  },
  {
   "cell_type": "code",
   "execution_count": null,
   "metadata": {},
   "outputs": [],
   "source": []
  }
 ],
 "metadata": {
  "kernelspec": {
   "display_name": "Python 3",
   "language": "python",
   "name": "python3"
  },
  "language_info": {
   "codemirror_mode": {
    "name": "ipython",
    "version": 3
   },
   "file_extension": ".py",
   "mimetype": "text/x-python",
   "name": "python",
   "nbconvert_exporter": "python",
   "pygments_lexer": "ipython3",
   "version": "3.7.0"
  }
 },
 "nbformat": 4,
 "nbformat_minor": 2
}
