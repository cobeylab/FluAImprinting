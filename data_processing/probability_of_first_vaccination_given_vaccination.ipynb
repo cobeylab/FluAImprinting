{
 "cells": [
  {
   "cell_type": "code",
   "execution_count": 2,
   "metadata": {},
   "outputs": [],
   "source": [
    "import pandas as pd\n",
    "from matplotlib import pyplot as plt\n",
    "import numpy as np\n",
    "%matplotlib inline\n",
    "\n",
    "df = pd.read_csv('../raw_data/prob_of_first_vaccination.csv')\n",
    "vac_prob = pd.read_csv('../raw_data/Marshfield_vaccination_timing.csv')\n",
    "new_rows = []\n",
    "for vactype, vactypedf in vac_prob.groupby('Vaccine type'):\n",
    "    temp = vactypedf.copy()\n",
    "    temp['cdf'] = np.cumsum(temp.PMF)\n",
    "    for index, row in temp.iterrows():\n",
    "        if row.cdf >= 0.5:\n",
    "            year, week = (row.Year, row.Week)\n",
    "            new_rows.append([vactype, year, week])\n",
    "            break\n",
    "            \n",
    "median_weeks = pd.DataFrame(new_rows, columns = ['vactype', 'year', 'week'])\n",
    "median_weeks.index = median_weeks.vactype\n",
    "vac_median = median_weeks.median().week\n",
    "vactypes = [str(vactype) for vactype in range(1918, 2010)] + ['2009Pan'] + [str(vactype) for vactype in range(2010, 2019)]\n",
    "new_rows = []\n",
    "for birth_year in range(1918, 2018):\n",
    "    for vactype in vactypes:\n",
    "        if vactype in list(median_weeks.vactype):\n",
    "            median = median_weeks.loc[vactype, 'week']\n",
    "            year = median_weeks.loc[vactype, 'year']\n",
    "        else:\n",
    "            median = vac_median\n",
    "            year = int(vactype)\n",
    "        \n",
    "        if birth_year <= year:\n",
    "            a1 = year - birth_year\n",
    "            a2 = a1 - 1\n",
    "            f1 = median / 52\n",
    "            f2 = 1 - f1\n",
    "            \n",
    "            if a1 == 0:\n",
    "                p = df.loc[0, 'probability_first_vaccine']\n",
    "            elif a1 <= 13:\n",
    "                p1 = df.loc[a1, 'probability_first_vaccine']\n",
    "                p2 = df.loc[a2, 'probability_first_vaccine']\n",
    "                p = p1 * f1 + p2 * f2\n",
    "            else:\n",
    "                p = 0\n",
    "            new_rows.append([birth_year, vactype, p])\n",
    "outdf = pd.DataFrame(new_rows, columns=['Birth_year', 'vactype', 'Naive_vac'])\n",
    "outdf.to_csv('../data/Marshfield_naive_vac_by_birth_year.csv', index=False)"
   ]
  },
  {
   "cell_type": "code",
   "execution_count": null,
   "metadata": {},
   "outputs": [],
   "source": []
  }
 ],
 "metadata": {
  "kernelspec": {
   "display_name": "Python 3",
   "language": "python",
   "name": "python3"
  },
  "language_info": {
   "codemirror_mode": {
    "name": "ipython",
    "version": 3
   },
   "file_extension": ".py",
   "mimetype": "text/x-python",
   "name": "python",
   "nbconvert_exporter": "python",
   "pygments_lexer": "ipython3",
   "version": "3.7.0"
  }
 },
 "nbformat": 4,
 "nbformat_minor": 2
}
