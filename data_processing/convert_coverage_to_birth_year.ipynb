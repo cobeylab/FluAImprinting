{
 "cells": [
  {
   "cell_type": "code",
   "execution_count": 1,
   "metadata": {},
   "outputs": [],
   "source": [
    "import pandas as pd\n",
    "import numpy as np\n",
    "import seaborn as sns\n",
    "from matplotlib import pyplot as plt\n",
    "from scipy.interpolate import splev, splrep\n",
    "from datetime import datetime, timedelta\n",
    "from dateutil.relativedelta import relativedelta\n",
    "%matplotlib inline\n",
    "\n",
    "\n",
    "demography = pd.read_csv('../data/demography_by_birth_year.csv',\n",
    "                         index_col = ['Birth_year', 'Season'])\n",
    "\n",
    "vac_cov_by_age = pd.read_csv('../raw_data/vac_coverage_by_age_seasonal_2010.csv')\n",
    "final_df = vac_cov_by_age.groupby(['Age','Season']).sum().copy()\n"
   ]
  },
  {
   "cell_type": "code",
   "execution_count": 2,
   "metadata": {
    "scrolled": false
   },
   "outputs": [],
   "source": [
    "# Assume that coverage is the same for everyone over 90\n",
    "for age in range(91, 101):\n",
    "    for season in set(list(vac_cov_by_age.Season)):\n",
    "        final_df.loc[(age, season),  'coverage'] = final_df.loc[(90, season), 'coverage']"
   ]
  },
  {
   "cell_type": "code",
   "execution_count": 3,
   "metadata": {},
   "outputs": [],
   "source": [
    "all_seasons = list(set(vac_cov_by_age.Season))\n",
    "index = pd.MultiIndex.from_product([range(1918, 2018), all_seasons], names=['Birth_year', 'Season'])\n",
    "birth_year_df = pd.DataFrame(index=index, columns=['coverage'])\n",
    "\n",
    "# Convert to birth year\n",
    "\n",
    "for birth_year in range(1918, 2018):\n",
    "    for season in range(2008, 2019):\n",
    "        if birth_year <= season - 1:\n",
    "            a1 = demography.loc[(birth_year, season), 'a1']\n",
    "            a2 = demography.loc[(birth_year, season), 'a2']\n",
    "            f1 = demography.loc[(birth_year, season), 'f1']\n",
    "            f2 = demography.loc[(birth_year, season), 'f2']\n",
    "            if np.isnan(a1):\n",
    "                f1 = 0\n",
    "                a1 = 0\n",
    "            if np.isnan(a2):\n",
    "                f2 = 0\n",
    "                a2 = 0\n",
    "            cov1 = final_df.loc[(a1, season), 'coverage']\n",
    "\n",
    "            cov2 = final_df.loc[(a2, season), 'coverage']\n",
    "\n",
    "            cov = cov1 * f1 + cov2 * f2\n",
    "            \n",
    "            birth_year_df.loc[(birth_year, season), 'coverage'] = cov\n",
    "birth_year_df.to_csv('../data/vac_coverage_by_birth_year_seasonal_2010.csv')"
   ]
  },
  {
   "cell_type": "code",
   "execution_count": null,
   "metadata": {},
   "outputs": [],
   "source": []
  }
 ],
 "metadata": {
  "kernelspec": {
   "display_name": "Python 3",
   "language": "python",
   "name": "python3"
  },
  "language_info": {
   "codemirror_mode": {
    "name": "ipython",
    "version": 3
   },
   "file_extension": ".py",
   "mimetype": "text/x-python",
   "name": "python",
   "nbconvert_exporter": "python",
   "pygments_lexer": "ipython3",
   "version": "3.7.1"
  }
 },
 "nbformat": 4,
 "nbformat_minor": 2
}
