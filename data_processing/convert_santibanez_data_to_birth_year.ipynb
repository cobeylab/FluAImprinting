{
 "cells": [
  {
   "cell_type": "code",
   "execution_count": 7,
   "metadata": {},
   "outputs": [],
   "source": [
    "import pandas as pd\n",
    "import numpy as np\n",
    "import seaborn as sns\n",
    "from matplotlib import pyplot as plt\n",
    "from matplotlib import rcParams\n",
    "%matplotlib inline\n",
    "\n",
    "san_nhis_out = pd.read_csv('../raw_data/santibanez_vc_by_age.csv')\n",
    "start_of_season = 40\n",
    "demo = pd.read_csv('../data/demography_by_birth_year.csv', \n",
    "                   index_col=('Birth_year', 'Season'))\n",
    "\n",
    "# convert to birth year\n",
    "\n",
    "new_rows = []\n",
    "for season in range(2003, 2008):\n",
    "    for birth_year in range(1918, 2019):\n",
    "        try:\n",
    "            # assume age distribution prior to 2008 is the same as 2008\n",
    "            row = demo.loc[(birth_year, 2008), ]\n",
    "            a1 = row.a1\n",
    "            a2 = row.a2\n",
    "            f1 = row.f1\n",
    "            f2 = row.f2\n",
    "\n",
    "            vc1 = san_nhis_out[(san_nhis_out.Age == a1) &\n",
    "                               (san_nhis_out.Season == season)].Coverage\n",
    "            vc2 = san_nhis_out[(san_nhis_out.Age == a2) &\n",
    "                   (san_nhis_out.Season == season)].Coverage\n",
    "            if len(vc1) == 0:\n",
    "                vc1 = 0\n",
    "            if len(vc2) == 0:\n",
    "                vc2 = 0\n",
    "                \n",
    "            vc = f1 * float(vc1) + f2 * float(vc2)\n",
    "            new_rows.append([birth_year, season, vc])\n",
    "\n",
    "        except KeyError:\n",
    "            pass\n",
    "birth_year_child_vc = pd.DataFrame(new_rows, columns = ['Birth_year', 'Season', 'Coverage'])\n",
    "birth_year_child_vc[birth_year_child_vc.Coverage > 0].to_csv('../data/santibanez_vc_by_birth_year.csv', index=False)"
   ]
  },
  {
   "cell_type": "code",
   "execution_count": null,
   "metadata": {},
   "outputs": [],
   "source": []
  }
 ],
 "metadata": {
  "kernelspec": {
   "display_name": "Python 3",
   "language": "python",
   "name": "python3"
  },
  "language_info": {
   "codemirror_mode": {
    "name": "ipython",
    "version": 3
   },
   "file_extension": ".py",
   "mimetype": "text/x-python",
   "name": "python",
   "nbconvert_exporter": "python",
   "pygments_lexer": "ipython3",
   "version": "3.7.1"
  }
 },
 "nbformat": 4,
 "nbformat_minor": 2
}
