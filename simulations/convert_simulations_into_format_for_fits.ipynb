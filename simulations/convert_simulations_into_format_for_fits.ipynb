{
 "cells": [
  {
   "cell_type": "code",
   "execution_count": 2,
   "metadata": {},
   "outputs": [],
   "source": [
    "import pandas as pd\n",
    "import numpy as np\n",
    "\n",
    "h1_seasons = ['2009', \n",
    "              '2010',\n",
    "              '2009Pan',\n",
    "              '2014',\n",
    "              '2016']\n",
    "\n",
    "\n",
    "for i in range(0, 100):\n",
    "    df = pd.read_csv('simulated_data/simulation_by_birth_year_%s.csv'%i)\n",
    "    max_birth_years = pd.read_csv('../raw_data/max_birth_years.csv', index_col='Season')\n",
    "\n",
    "    h1_cases = df[df.Season.isin(h1_seasons)].copy()\n",
    "    h3_cases = df[~df.Season.isin(h1_seasons)].copy()\n",
    "\n",
    "    final_df = pd.DataFrame(columns=['birth_year',\n",
    "                                           'I_obs_h1',\n",
    "                                           'I_vac_h1',\n",
    "                                           'I_obs_h3',\n",
    "                                           'I_vac_h3',\n",
    "                                           'season'])\n",
    "    h1_agg = h1_cases.groupby(['Season', 'Birth_year', 'Vaccination_status']).sum().Count\n",
    "    h3_agg = h3_cases.groupby(['Season', 'Birth_year', 'Vaccination_status']).sum().Count\n",
    "\n",
    "    index = 0\n",
    "    for season in set(df.Season):\n",
    "        if season in h1_seasons:\n",
    "            aggdf = h1_agg\n",
    "            subtype = 'h1'\n",
    "        else:\n",
    "            aggdf = h3_agg\n",
    "            subtype = 'h3'\n",
    "        for byear in np.arange(1918, max_birth_years.loc[season, 'max_year'] + 1):\n",
    "            try:\n",
    "                vac_cases = aggdf.loc[(season, byear, 1), ]\n",
    "            except KeyError:\n",
    "                vac_cases = 0\n",
    "\n",
    "            try:\n",
    "                unvac_cases = aggdf.loc[(season, byear, 0), ]\n",
    "            except KeyError:\n",
    "                unvac_cases = 0\n",
    "\n",
    "            final_df.loc[index, 'birth_year'] = byear\n",
    "            final_df.loc[index, 'I_obs_%s'%subtype] = unvac_cases\n",
    "            final_df.loc[index, 'I_vac_%s'%subtype] = vac_cases\n",
    "            final_df.loc[index, 'season'] = season\n",
    "\n",
    "            index += 1\n",
    "\n",
    "    final_df = final_df.sort_values(['season', 'birth_year'])\n",
    "    final_df.to_csv('simulated_data/standard_simulation_%s.csv'%i, index=False)\n"
   ]
  },
  {
   "cell_type": "code",
   "execution_count": null,
   "metadata": {},
   "outputs": [],
   "source": []
  }
 ],
 "metadata": {
  "kernelspec": {
   "display_name": "Python 3",
   "language": "python",
   "name": "python3"
  },
  "language_info": {
   "codemirror_mode": {
    "name": "ipython",
    "version": 3
   },
   "file_extension": ".py",
   "mimetype": "text/x-python",
   "name": "python",
   "nbconvert_exporter": "python",
   "pygments_lexer": "ipython3",
   "version": "3.7.1"
  }
 },
 "nbformat": 4,
 "nbformat_minor": 2
}
