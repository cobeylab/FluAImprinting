{
 "cells": [
  {
   "cell_type": "code",
   "execution_count": 1,
   "metadata": {},
   "outputs": [
    {
     "data": {
      "text/plain": [
       "<matplotlib.legend.Legend at 0x25ece71cf28>"
      ]
     },
     "execution_count": 1,
     "metadata": {},
     "output_type": "execute_result"
    },
    {
     "data": {
      "image/png": "[encoded data removed]",
      "text/plain": [
       "<Figure size 396x288 with 9 Axes>"
      ]
     },
     "metadata": {
      "needs_background": "light"
     },
     "output_type": "display_data"
    }
   ],
   "source": [
    "from matplotlib import pyplot as plt\n",
    "from matplotlib import rcParams\n",
    "import seaborn as sns\n",
    "import pandas as pd\n",
    "import numpy as np\n",
    "%matplotlib inline\n",
    "\n",
    "sns.set_context('paper')\n",
    "rcParams['font.sans-serif'] = 'arial'\n",
    "imprinting_df = pd.read_csv('../data/imprinting_function_birth_year.csv', index_col=('Season', 'Birth_year'))\n",
    "demo_df = pd.read_csv('../data/demography_by_age_extended.csv')\n",
    "\n",
    "age_groups =((0, 4),\n",
    "             (5, 9),\n",
    "             (10, 14),\n",
    "             (15, 19),\n",
    "             (20, 29),\n",
    "             (30, 39),\n",
    "             (40, 49),\n",
    "             (50, 64),\n",
    "             (65, 100))\n",
    "\n",
    "def age_to_age_group(age, age_groups):\n",
    "    ag = np.nan\n",
    "    for lb, ub in age_groups:\n",
    "        if age >= lb and age <= ub:\n",
    "            ag = '-'.join((str(lb), str(ub)))\n",
    "            break\n",
    "    return ag\n",
    "\n",
    "def season_to_label(season):\n",
    "    if season == '2009.5':\n",
    "        l = '2009Pan'\n",
    "    else:\n",
    "        l = str(int(float(season)) - 1) + '-' + str(int(float(season)))\n",
    "    return l\n",
    "\n",
    "pal = sns.xkcd_palette(['dark sky blue', 'light sky blue', 'deep red']).as_hex() + ['#999999']\n",
    "\n",
    "\n",
    "\n",
    "for index, row in demo_df.iterrows():\n",
    "    y1 = row.y1\n",
    "    y2 = row.y2\n",
    "    f1 = row.f1\n",
    "    f2 = row.f2\n",
    "    age = row.Age\n",
    "    season = row.Season\n",
    "    \n",
    "    if season >= 2008:\n",
    "        i_h1_1 = i_h2_1 = i_h3_1 = i_n_1 = 0\n",
    "        i_h1_2 = i_h2_2 = i_h3_2 = i_n_2 = 0\n",
    "        if season > 2007 and age <= 100:\n",
    "            if y1 >= 1918:\n",
    "                i_h1_1 = imprinting_df.loc[(season, y1), 'H1']\n",
    "                i_h2_1 = imprinting_df.loc[(season, y1), 'H2']\n",
    "                i_h3_1 = imprinting_df.loc[(season, y1), 'H3']\n",
    "                i_n_1 = 1 - (i_h1_1 + i_h2_1 + i_h3_1)\n",
    "            if y2 >= 1918:\n",
    "                i_h1_2 = imprinting_df.loc[(season, y2), 'H1']\n",
    "                i_h2_2 = imprinting_df.loc[(season, y2), 'H2']\n",
    "                i_h3_2 = imprinting_df.loc[(season, y2), 'H3']\n",
    "                i_n_2 = 1 - (i_h1_2 + i_h2_2 + i_h3_2)\n",
    "\n",
    "            # Correction since we're just ignoring people who were born before 1918\n",
    "            if y2 < 1918:\n",
    "                f1 = 1.0\n",
    "                f2 = 0.0\n",
    "\n",
    "            if y1 >=1918 or y2 >=1918:\n",
    "                i_h1 = i_h1_1 * f1 + i_h1_2 * f2\n",
    "                i_h2 = i_h2_1 * f1 + i_h2_2 * f2\n",
    "                i_h3 = i_h3_1 * f1 + i_h3_2 * f2\n",
    "                i_n = i_n_1 * f1 + i_n_2 * f2\n",
    "                pop = row.Population * f1 + row.Population * f2\n",
    "                demo_df.loc[index, 'H1'] = i_h1 * pop\n",
    "                demo_df.loc[index, 'H2'] = i_h2 * pop\n",
    "                demo_df.loc[index, 'H3'] = i_h3 * pop\n",
    "                demo_df.loc[index, 'naive'] = i_n * pop\n",
    "                demo_df.loc[index, 'age_group'] = age_to_age_group(age, age_groups)\n",
    "plot_df = demo_df[~np.isnan(demo_df.H1)].copy()\n",
    "\n",
    "plot_df['H1N1'] = plot_df['H1']\n",
    "plot_df['H2N2'] = plot_df['H2']\n",
    "plot_df['H3N2'] = plot_df['H3']\n",
    "plot_df['Naive'] = plot_df['naive']\n",
    "\n",
    "for ag, agdf in plot_df.groupby('age_group'):\n",
    "    a1 = int(ag.split('-')[0])\n",
    "    subplot = 1\n",
    "    for lb, ub in age_groups:\n",
    "        if lb == a1:\n",
    "            break\n",
    "        else:\n",
    "            subplot += 1\n",
    "    plt.subplot(3, 3, subplot)\n",
    "    temp = agdf.copy()\n",
    "    agg = agdf.groupby('Season')\n",
    "    agg = agg.sum()\n",
    "    agg = agg.divide(agg.Population, axis=0)\n",
    "    agg.plot.bar(y=['H1N1', 'H2N2', 'H3N2', 'Naive'],\n",
    "                 stacked=True,\n",
    "                 width=1,\n",
    "                 color=pal,\n",
    "                 ax=plt.gca(),\n",
    "                 legend = False)\n",
    "    ticks, labels = plt.xticks()\n",
    "    plt.gca().set_xlabel('')\n",
    "    if subplot not in range(len(age_groups)-2 , len(age_groups) + 1):\n",
    "        plt.xticks(ticks, [])\n",
    "    else:\n",
    "        new_labels = [season_to_label(l.get_text()) for l in labels]\n",
    "        plt.xticks(ticks, new_labels, size=8, rotation=90)#, ha='right')\n",
    "    \n",
    "    if subplot == 4:\n",
    "        plt.ylabel('Imprinting probability', weight='bold')\n",
    "        \n",
    "    if subplot == 8:\n",
    "        plt.gca().set_xlabel('Season', weight='bold')\n",
    "        \n",
    "    if ag != '65-100':\n",
    "        plt.title(ag, weight='bold')\n",
    "    else:\n",
    "        plt.title('65+', weight='bold')\n",
    "\n",
    "    plt.xlim(-0.5, len(agg) - 0.5)\n",
    "    plt.ylim(0, 1)\n",
    "\n",
    "\n",
    "plt.gcf().set_size_inches(5.5, 4)\n",
    "\n",
    "plt.tight_layout()\n",
    "plt.legend(loc='center',\n",
    "           bbox_to_anchor=(-1, -1.9),\n",
    "           ncol=4)"
   ]
  },
  {
   "cell_type": "code",
   "execution_count": 6,
   "metadata": {},
   "outputs": [
    {
     "data": {
      "text/plain": [
       "<matplotlib.legend.Legend at 0x25ecf6c2a58>"
      ]
     },
     "execution_count": 6,
     "metadata": {},
     "output_type": "execute_result"
    },
    {
     "data": {
      "image/png": "[encoded data removed]",
      "text/plain": [
       "<Figure size 432x288 with 2 Axes>"
      ]
     },
     "metadata": {
      "needs_background": "light"
     },
     "output_type": "display_data"
    }
   ],
   "source": [
    "df = pd.read_csv('../data/Intensity_and_Frequency.csv')\n",
    "\n",
    "def season_to_season_label(s):\n",
    "    if s != 2009.5:\n",
    "        l = str(int(s) - 1) + '-' + str(int(s))\n",
    "    else:\n",
    "        l = '2009Pan'\n",
    "    return l\n",
    "\n",
    "df['Season'] = df.season_float.apply(season_to_season_label)\n",
    "df['H1N1'] = df.H1N1_fraction\n",
    "df['H3N2'] = df.H3N2_fraction\n",
    "df['H2N2'] = df.H2N2_fraction\n",
    "df = df[df.season_float < 2019]\n",
    "df = df.sort_values('Season')\n",
    "plt.subplot(2,1,1)\n",
    "df.plot(x='Season', y='Intensity', legend=False, ax=plt.gca(), color='purple')\n",
    "ticks, labels = plt.xticks()\n",
    "newticks = range(0, 102,20)\n",
    "newlabels = [list(df.Season)[i] for i in newticks]\n",
    "plt.xticks(newticks, [])\n",
    "plt.xlim(0, 102)\n",
    "plt.ylabel('Influenza A\\nintensity')\n",
    "plt.xlabel('')\n",
    "\n",
    "plt.subplot(2,1,2)\n",
    "pal = sns.xkcd_palette(['dark sky blue', 'light sky blue', 'deep red']).as_hex()\n",
    "sns.set_palette(pal)\n",
    "df.plot.bar(x='Season', y=['H1N1', 'H2N2', 'H3N2'], ax=plt.gca(), stacked=True, width=1)\n",
    "plt.ylabel('Fraction of influenza A\\ncases')\n",
    "plt.ylim(0, 1)\n",
    "plt.xticks(newticks, newlabels, rotation=0)\n",
    "plt.tight_layout()\n",
    "plt.legend(loc='center', ncol = 3, bbox_to_anchor=(0.5, -0.4))"
   ]
  },
  {
   "cell_type": "code",
   "execution_count": null,
   "metadata": {},
   "outputs": [],
   "source": []
  }
 ],
 "metadata": {
  "kernelspec": {
   "display_name": "Python 3",
   "language": "python",
   "name": "python3"
  },
  "language_info": {
   "codemirror_mode": {
    "name": "ipython",
    "version": 3
   },
   "file_extension": ".py",
   "mimetype": "text/x-python",
   "name": "python",
   "nbconvert_exporter": "python",
   "pygments_lexer": "ipython3",
   "version": "3.7.0"
  }
 },
 "nbformat": 4,
 "nbformat_minor": 2
}
